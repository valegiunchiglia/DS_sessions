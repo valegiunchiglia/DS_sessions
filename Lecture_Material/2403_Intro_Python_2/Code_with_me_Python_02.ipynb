{
  "nbformat": 4,
  "nbformat_minor": 0,
  "metadata": {
    "kernelspec": {
      "display_name": "Python 3",
      "language": "python",
      "name": "python3"
    },
    "language_info": {
      "codemirror_mode": {
        "name": "ipython",
        "version": 3
      },
      "file_extension": ".py",
      "mimetype": "text/x-python",
      "name": "python",
      "nbconvert_exporter": "python",
      "pygments_lexer": "ipython3",
      "version": "3.7.4"
    },
    "varInspector": {
      "cols": {
        "lenName": 16,
        "lenType": 16,
        "lenVar": 40
      },
      "kernels_config": {
        "python": {
          "delete_cmd_postfix": "",
          "delete_cmd_prefix": "del ",
          "library": "var_list.py",
          "varRefreshCmd": "print(var_dic_list())"
        },
        "r": {
          "delete_cmd_postfix": ") ",
          "delete_cmd_prefix": "rm(",
          "library": "var_list.r",
          "varRefreshCmd": "cat(var_dic_list()) "
        }
      },
      "types_to_exclude": [
        "module",
        "function",
        "builtin_function_or_method",
        "instance",
        "_Feature"
      ],
      "window_display": false
    },
    "colab": {
      "name": "Code_with_me_Python_02.ipynb",
      "provenance": [],
      "collapsed_sections": []
    }
  },
  "cells": [
    {
      "cell_type": "markdown",
      "metadata": {
        "id": "nXZmRuKUNwuv"
      },
      "source": [
        "# Code with me: Python_02"
      ]
    },
    {
      "cell_type": "markdown",
      "metadata": {
        "id": "lzM7rfr1Nwu0"
      },
      "source": [
        "Hello everyone! Thank you for opening this file. This means you just started the first step of further Python learning.\n",
        "In the last section, Jing gave an interesting lecture about the introduction of Python. In this lecture, we will revise some of them and learn new things as well."
      ]
    },
    {
      "cell_type": "markdown",
      "metadata": {
        "id": "p2gq_mzrNwu2"
      },
      "source": [
        "## 1.Data types"
      ]
    },
    {
      "cell_type": "markdown",
      "metadata": {
        "id": "Hms3zTvCNwu3"
      },
      "source": [
        "### 1.1 Integers & floats"
      ]
    },
    {
      "cell_type": "markdown",
      "metadata": {
        "id": "F9IKKeYLNwu4"
      },
      "source": [
        "An integer is a number that can be written without a fractional part (no decimal). \n",
        "An integer can be a positive number, a negative number or the number 0."
      ]
    },
    {
      "cell_type": "code",
      "metadata": {
        "ExecuteTime": {
          "end_time": "2021-03-23T08:15:32.154954Z",
          "start_time": "2021-03-23T08:15:32.137000Z"
        },
        "id": "YCLVWcS5Nwu6"
      },
      "source": [
        "# Integer numbers\n",
        "apples = 6\n",
        "bananas = 2\n",
        "lemons = 0\n",
        "nothing = -2"
      ],
      "execution_count": null,
      "outputs": []
    },
    {
      "cell_type": "markdown",
      "metadata": {
        "id": "kp16APj3Nwu7"
      },
      "source": [
        "The number 0 represents an integer value but the same number written as 0.0 would represent a floating point number."
      ]
    },
    {
      "cell_type": "markdown",
      "metadata": {
        "id": "szVM0PhKNwu8"
      },
      "source": [
        "### 1.2 Floating point numbers"
      ]
    },
    {
      "cell_type": "markdown",
      "metadata": {
        "id": "dpZ-lerbNwu9"
      },
      "source": [
        "A floating point number is a value that contains a decimal portion. It can be used to represent numbers that have fractional quantities. For example, a = 3/5 can not be represented as an integer, so the variable a is assigned a floating point value of 0.6."
      ]
    },
    {
      "cell_type": "code",
      "metadata": {
        "id": "UnPfoyq_Nwu_"
      },
      "source": [
        "# Floating point numbers\n",
        "pi = 3.14159\n",
        "price = 12.99\n",
        "p_value = 1.2e-5 # 0.000012"
      ],
      "execution_count": null,
      "outputs": []
    },
    {
      "cell_type": "markdown",
      "metadata": {
        "id": "YoYJ_6JZNwvA"
      },
      "source": [
        "Python has two division ways.    \n",
        "One is '/', whose result is a floating-point number, even though the result is an interger."
      ]
    },
    {
      "cell_type": "code",
      "metadata": {
        "ExecuteTime": {
          "end_time": "2021-03-23T11:15:05.022670Z",
          "start_time": "2021-03-23T11:15:05.007683Z"
        },
        "id": "uWqgpLgtNwvB"
      },
      "source": [
        "10 / 3"
      ],
      "execution_count": null,
      "outputs": []
    },
    {
      "cell_type": "code",
      "metadata": {
        "ExecuteTime": {
          "end_time": "2021-03-23T11:15:33.525626Z",
          "start_time": "2021-03-23T11:15:33.511642Z"
        },
        "id": "59FPBl97NwvC"
      },
      "source": [
        "# The situation where the result is an integer\n",
        "9/3"
      ],
      "execution_count": null,
      "outputs": []
    },
    {
      "cell_type": "markdown",
      "metadata": {
        "id": "-31kQeAuNwvD"
      },
      "source": [
        "Another kind of division is '//', which is also known as floor division. This division takes only the integral part of the result."
      ]
    },
    {
      "cell_type": "code",
      "metadata": {
        "ExecuteTime": {
          "end_time": "2021-03-23T11:19:05.986407Z",
          "start_time": "2021-03-23T11:19:05.975935Z"
        },
        "id": "mkkFWHntNwvE"
      },
      "source": [
        "10 // 3"
      ],
      "execution_count": null,
      "outputs": []
    },
    {
      "cell_type": "markdown",
      "metadata": {
        "ExecuteTime": {
          "end_time": "2021-03-23T08:15:12.061784Z",
          "start_time": "2021-03-23T08:15:12.043825Z"
        },
        "id": "FzG1Y3C_NwvF"
      },
      "source": [
        "**** Code with me: try to calculate the following fomula and run the cell to check**"
      ]
    },
    {
      "cell_type": "code",
      "metadata": {
        "ExecuteTime": {
          "end_time": "2021-03-23T11:22:13.032188Z",
          "start_time": "2021-03-23T11:22:13.016172Z"
        },
        "id": "WXYCfRgTNwvF"
      },
      "source": [
        "print('30/3 =', 30/3)\n",
        "print('29/3 =', 29/3)\n",
        "print('29//3 =', 29//3)"
      ],
      "execution_count": null,
      "outputs": []
    },
    {
      "cell_type": "markdown",
      "metadata": {
        "id": "OC8iYWumNwvG"
      },
      "source": [
        "### 1.3 Strings & variables (revise)"
      ]
    },
    {
      "cell_type": "markdown",
      "metadata": {
        "ExecuteTime": {
          "end_time": "2021-03-23T08:15:12.061784Z",
          "start_time": "2021-03-23T08:15:12.043825Z"
        },
        "id": "Qs9UQ993NwvI"
      },
      "source": [
        "**** Code with me: try to set each word to an variables, and apply string concatenation to generate a sentence 'I love Python'**"
      ]
    },
    {
      "cell_type": "code",
      "metadata": {
        "ExecuteTime": {
          "end_time": "2021-03-23T11:48:59.367067Z",
          "start_time": "2021-03-23T11:48:59.363097Z"
        },
        "id": "ov5OlFjlNwvI"
      },
      "source": [
        "# Practice here\n",
        "# First, build three variables to save each word 'I', 'love', 'Python'.\n",
        "\n",
        "\n",
        "# Next, using string concatenation to 'add' three words to a new variable, which is the whole sentence.\n",
        "\n",
        "\n",
        "# Last, print out the new variable to see the result\n",
        "\n"
      ],
      "execution_count": null,
      "outputs": []
    },
    {
      "cell_type": "markdown",
      "metadata": {
        "id": "-MVM00ECNwvJ"
      },
      "source": [
        "## 2. List"
      ]
    },
    {
      "cell_type": "markdown",
      "metadata": {
        "id": "Dg6Fb87ZNwvK"
      },
      "source": [
        "In Python, lists are ordered collections of items that allow for easy use of a set of data.     \n",
        "List values are placed in between square brackets [ ], separated by commas.   "
      ]
    },
    {
      "cell_type": "code",
      "metadata": {
        "ExecuteTime": {
          "end_time": "2021-03-23T12:45:19.719389Z",
          "start_time": "2021-03-23T12:45:19.703655Z"
        },
        "id": "2lAAT8dsNwvL"
      },
      "source": [
        "# An example list\n",
        "myList = ['a', 'b', 'c']"
      ],
      "execution_count": null,
      "outputs": []
    },
    {
      "cell_type": "markdown",
      "metadata": {
        "ExecuteTime": {
          "end_time": "2021-03-23T12:45:41.276418Z",
          "start_time": "2021-03-23T12:45:41.262194Z"
        },
        "id": "lrwBAfryNwvM"
      },
      "source": [
        "Lists can contain multiple different data types within the same square brackets."
      ]
    },
    {
      "cell_type": "code",
      "metadata": {
        "ExecuteTime": {
          "end_time": "2021-03-23T12:45:53.528074Z",
          "start_time": "2021-03-23T12:45:53.515448Z"
        },
        "id": "MqDPeRs0NwvM"
      },
      "source": [
        "# This list contains all numbers\n",
        "numbers = ['6', '2', '20', '0']\n",
        "# This list contains all strings\n",
        "strings = ['apple', 'banana', 'lemon', 'apple']\n",
        "# This list contains mixed data types\n",
        "mixed = ['we', 'have', '6', 'apples']\n",
        "# This list is more complicated, which contains other lists\n",
        "list_of_lists = [['apple', 6], ['banana', 2]]"
      ],
      "execution_count": null,
      "outputs": []
    },
    {
      "cell_type": "markdown",
      "metadata": {
        "ExecuteTime": {
          "end_time": "2021-03-23T08:15:12.061784Z",
          "start_time": "2021-03-23T08:15:12.043825Z"
        },
        "id": "zNsNWqngNwvN"
      },
      "source": [
        "**** Code with me: create a new list.**"
      ]
    },
    {
      "cell_type": "code",
      "metadata": {
        "ExecuteTime": {
          "end_time": "2021-03-23T13:05:21.711513Z",
          "start_time": "2021-03-23T13:05:21.698200Z"
        },
        "id": "sRW83o14NwvO"
      },
      "source": [
        "# Suppose Tom is 4 years old and Jerry is 3. Create a list contains their names and ages.\n",
        "information = \n",
        "\n",
        "# Print the list\n"
      ],
      "execution_count": null,
      "outputs": []
    },
    {
      "cell_type": "markdown",
      "metadata": {
        "id": "Pg8W1SPlNwvO"
      },
      "source": [
        "In Python, lists can be added to each other using the plus symbol '+'."
      ]
    },
    {
      "cell_type": "code",
      "metadata": {
        "ExecuteTime": {
          "end_time": "2021-03-23T12:50:45.352288Z",
          "start_time": "2021-03-23T12:50:45.336103Z"
        },
        "id": "pedGtQeGNwvP"
      },
      "source": [
        "added = numbers + ['33', '66']\n",
        "print(added)"
      ],
      "execution_count": null,
      "outputs": []
    },
    {
      "cell_type": "code",
      "metadata": {
        "ExecuteTime": {
          "end_time": "2021-03-23T12:09:28.972087Z",
          "start_time": "2021-03-23T12:09:28.968092Z"
        },
        "id": "J1HuO95oNwvQ"
      },
      "source": [
        "total = numbers + strings\n",
        "print(total)"
      ],
      "execution_count": null,
      "outputs": []
    },
    {
      "cell_type": "markdown",
      "metadata": {
        "ExecuteTime": {
          "end_time": "2021-03-23T08:15:12.061784Z",
          "start_time": "2021-03-23T08:15:12.043825Z"
        },
        "id": "asSfixLoNwvQ"
      },
      "source": [
        "**** Code with me: add two lists.**"
      ]
    },
    {
      "cell_type": "code",
      "metadata": {
        "ExecuteTime": {
          "end_time": "2021-03-23T13:05:47.526207Z",
          "start_time": "2021-03-23T13:05:47.514007Z"
        },
        "id": "wQawWhbKNwvR"
      },
      "source": [
        "# Add a list within 'Spike' and 5 to the list 'information'. Name the new list as 'all_info'\n",
        "all_info = \n",
        "\n",
        "# Print to see the result\n"
      ],
      "execution_count": null,
      "outputs": []
    },
    {
      "cell_type": "markdown",
      "metadata": {
        "id": "Dc5Ydk5qNwvS"
      },
      "source": [
        "How can we count the number of the elements in a list?"
      ]
    },
    {
      "cell_type": "code",
      "metadata": {
        "ExecuteTime": {
          "end_time": "2021-03-23T12:18:03.283929Z",
          "start_time": "2021-03-23T12:18:03.278943Z"
        },
        "id": "9B4WU1awNwvS"
      },
      "source": [
        "# len() function can be used to determine the number of items found in the list.\n",
        "print('The list strings has',len(strings), 'elements.')\n",
        "print('The list total has',len(total), 'elements.')"
      ],
      "execution_count": null,
      "outputs": []
    },
    {
      "cell_type": "markdown",
      "metadata": {
        "ExecuteTime": {
          "end_time": "2021-03-23T08:15:12.061784Z",
          "start_time": "2021-03-23T08:15:12.043825Z"
        },
        "id": "CbHz2cHvNwvU"
      },
      "source": [
        "**** Code with me: how many elements are in the list all_info now?**"
      ]
    },
    {
      "cell_type": "code",
      "metadata": {
        "ExecuteTime": {
          "end_time": "2021-03-23T13:05:47.526207Z",
          "start_time": "2021-03-23T13:05:47.514007Z"
        },
        "id": "XeILG5upNwvV"
      },
      "source": [
        "# Try to LET PYTHON count the number of elements in the list all_info\n",
        "\n"
      ],
      "execution_count": null,
      "outputs": []
    },
    {
      "cell_type": "markdown",
      "metadata": {
        "id": "HxoeyAybNwvW"
      },
      "source": [
        "Python list elements are ordered by *index*, a number referring to their placement in the list.     \n",
        "To access a list element by index, square bracket notation is used: list[index].     \n",
        "**Notice: In Python, list index begins at zero and ends at the length of the list minus one.**"
      ]
    },
    {
      "cell_type": "code",
      "metadata": {
        "ExecuteTime": {
          "end_time": "2021-03-23T12:20:18.064952Z",
          "start_time": "2021-03-23T12:20:18.061930Z"
        },
        "id": "OKkGhcecNwvX"
      },
      "source": [
        "# Extract the fisrt and the sixth elements in the list total\n",
        "print('The first element in the list total is',total[0])\n",
        "print('The sixth element in the list total is',total[5])"
      ],
      "execution_count": null,
      "outputs": []
    },
    {
      "cell_type": "markdown",
      "metadata": {
        "id": "I7pyuZ4PNwvY"
      },
      "source": [
        "You can also access an element through negative indices. Negetive indices starts from -1."
      ]
    },
    {
      "cell_type": "code",
      "metadata": {
        "ExecuteTime": {
          "end_time": "2021-03-23T13:09:38.664526Z",
          "start_time": "2021-03-23T13:09:38.650034Z"
        },
        "id": "OU9DNarXNwvY"
      },
      "source": [
        "# Two ways to access the second-to-last element in the list total\n",
        "# By indices\n",
        "total[6]\n",
        "total[len(total)-2]\n",
        "\n",
        "# By negative indices\n",
        "total[-2]"
      ],
      "execution_count": null,
      "outputs": []
    },
    {
      "cell_type": "markdown",
      "metadata": {
        "ExecuteTime": {
          "end_time": "2021-03-23T08:15:12.061784Z",
          "start_time": "2021-03-23T08:15:12.043825Z"
        },
        "id": "MoqdXkl6NwvZ"
      },
      "source": [
        "**** Code with me: find specific elements by their locations in a list.**"
      ]
    },
    {
      "cell_type": "code",
      "metadata": {
        "ExecuteTime": {
          "end_time": "2021-03-23T13:05:47.526207Z",
          "start_time": "2021-03-23T13:05:47.514007Z"
        },
        "id": "WXlifg0MNwva"
      },
      "source": [
        "# Output the second element in the list all_info, should be 4\n"
      ],
      "execution_count": null,
      "outputs": []
    },
    {
      "cell_type": "code",
      "metadata": {
        "ExecuteTime": {
          "end_time": "2021-03-23T13:06:09.761324Z",
          "start_time": "2021-03-23T13:06:09.746674Z"
        },
        "id": "QLZlT_bdNwva"
      },
      "source": [
        "# Output the last element in the list all_info, which is 5\n"
      ],
      "execution_count": null,
      "outputs": []
    },
    {
      "cell_type": "markdown",
      "metadata": {
        "id": "vXynY45TNwvb"
      },
      "source": [
        "What if we want to select a slice, or sub-list of Python list elements from a list?\n",
        "-> List slicing!\n",
        "\n",
        "The syntax pattern is myList[START_NUMBER:END_NUMBER].    \n",
        "**The slice will include the START_NUMBER index, and everything until but excluding the END_NUMBER item.**"
      ]
    },
    {
      "cell_type": "code",
      "metadata": {
        "ExecuteTime": {
          "end_time": "2021-03-23T12:42:16.492478Z",
          "start_time": "2021-03-23T12:42:16.475699Z"
        },
        "id": "pE9YbTnfNwvc"
      },
      "source": [
        "# Slice by indices\n",
        "total[0:4]"
      ],
      "execution_count": null,
      "outputs": []
    },
    {
      "cell_type": "code",
      "metadata": {
        "ExecuteTime": {
          "end_time": "2021-03-23T12:44:11.125713Z",
          "start_time": "2021-03-23T12:44:11.111124Z"
        },
        "id": "QK542dJcNwvc"
      },
      "source": [
        "# Omit the STRAT_NUMBER 0 or the END_NUMBER the length of the list\n",
        "total[:4]"
      ],
      "execution_count": null,
      "outputs": []
    },
    {
      "cell_type": "code",
      "metadata": {
        "ExecuteTime": {
          "end_time": "2021-03-23T12:44:12.072396Z",
          "start_time": "2021-03-23T12:44:12.059552Z"
        },
        "id": "AlWcsHk1Nwvd"
      },
      "source": [
        "# Slice by negative indices\n",
        "# To select the last three elements\n",
        "total[-3:]"
      ],
      "execution_count": null,
      "outputs": []
    },
    {
      "cell_type": "code",
      "metadata": {
        "ExecuteTime": {
          "end_time": "2021-03-23T12:44:12.867712Z",
          "start_time": "2021-03-23T12:44:12.853331Z"
        },
        "id": "_yWnIbhXNwve"
      },
      "source": [
        "# To select everything except the last two elements\n",
        "total[:-2]"
      ],
      "execution_count": null,
      "outputs": []
    },
    {
      "cell_type": "markdown",
      "metadata": {
        "id": "mY6uqkGgNwvf"
      },
      "source": [
        "The sliced list is saved to a new list, the original list remains the same. Let's check..."
      ]
    },
    {
      "cell_type": "code",
      "metadata": {
        "ExecuteTime": {
          "end_time": "2021-03-23T12:44:18.794427Z",
          "start_time": "2021-03-23T12:44:18.779695Z"
        },
        "id": "qyoMj6i0Nwvh"
      },
      "source": [
        "# Original list is unaltered\n",
        "print(total)"
      ],
      "execution_count": null,
      "outputs": []
    },
    {
      "cell_type": "markdown",
      "metadata": {
        "ExecuteTime": {
          "end_time": "2021-03-23T08:15:12.061784Z",
          "start_time": "2021-03-23T08:15:12.043825Z"
        },
        "id": "aMyQJufMNwvi"
      },
      "source": [
        "**** Code with me: select a slice of a Python list**"
      ]
    },
    {
      "cell_type": "code",
      "metadata": {
        "ExecuteTime": {
          "end_time": "2021-03-23T13:07:32.175983Z",
          "start_time": "2021-03-23T13:07:32.166603Z"
        },
        "id": "Jo-isdF7Nwvj"
      },
      "source": [
        "# Extract Jerry's information (the third and the fourth items)\n"
      ],
      "execution_count": null,
      "outputs": []
    },
    {
      "cell_type": "markdown",
      "metadata": {
        "id": "iikGDOAHNwvk"
      },
      "source": [
        "## Next time: loop, function ..."
      ]
    }
  ]
}