{
  "nbformat": 4,
  "nbformat_minor": 0,
  "metadata": {
    "colab": {
      "name": "Code with me: Intro to Python I01.ipynb",
      "provenance": [],
      "collapsed_sections": []
    },
    "kernelspec": {
      "name": "python3",
      "display_name": "Python 3"
    }
  },
  "cells": [
    {
      "cell_type": "markdown",
      "metadata": {
        "id": "K89XqQ5G2Ckp"
      },
      "source": [
        "**Code with me: Intro to Python**\r\n",
        "\r\n",
        "Good day. I am Jing who are able to give the talk today. In this talk, we are going to learning about some basic concepts and skills about Python. Get more familiar with Python. So that you can feel like you know something about Python after my talk. "
      ]
    },
    {
      "cell_type": "markdown",
      "metadata": {
        "id": "pf5WWGaPvwYa"
      },
      "source": [
        "0.Print function\r\n",
        "Print is one of the most commonly used functions in Python. It gives you feedback in the console so that you can see or inspect things you want to know.To begin with, let's start with our first meet with learn print function at the basic level."
      ]
    },
    {
      "cell_type": "code",
      "metadata": {
        "id": "mGrZ6VnwvalC"
      },
      "source": [
        "# Print function very basic\r\n",
        "\r\n",
        "print(123)\r\n",
        "print(\"Chinese New Year\")\r\n",
        "print(\"春节快乐\")"
      ],
      "execution_count": null,
      "outputs": []
    },
    {
      "cell_type": "markdown",
      "metadata": {
        "id": "SfP79xgxw9Kq"
      },
      "source": [
        "** Code with me: Code or programming can never be learned only by retinas or eyeballs. **Codes are learned by fingers.** Actually, this is the most important thing in my talk. As long as you remember this and remember to do this, then your participations are already worthy. Ok, enough for the motivation talk. Let's dance our fingers on the keyboards. "
      ]
    },
    {
      "cell_type": "code",
      "metadata": {
        "id": "vqlcpWw80ice"
      },
      "source": [
        "# print Hello World\r\n",
        "\r\n",
        "# print the year that you attend this talk\r\n"
      ],
      "execution_count": null,
      "outputs": []
    },
    {
      "cell_type": "markdown",
      "metadata": {
        "id": "z4Jg76HQDtML"
      },
      "source": [
        "1. Comments\r\n",
        "  \r\n",
        "  Comment is important in codes because it makes your codes more readable by both you and others. With the mark of #, Python will recognize it and make it as your comments. Comments can be put in both empty lines and code lines"
      ]
    },
    {
      "cell_type": "code",
      "metadata": {
        "id": "m6gF5eSY2pxe"
      },
      "source": [
        "# Make a Comments in an empty line\r\n",
        "\r\n",
        "print(\"I love jiaozi\") # Make a comment in a code line"
      ],
      "execution_count": null,
      "outputs": []
    },
    {
      "cell_type": "markdown",
      "metadata": {
        "id": "sRZUupK5GRou"
      },
      "source": [
        "**Code with me: Make comments in both empty line and a code line for the following codes"
      ]
    },
    {
      "cell_type": "code",
      "metadata": {
        "id": "LcsprgxdGi-l"
      },
      "source": [
        "\r\n",
        "for i in range(1, 10):\r\n",
        "    for j in range(1, i+1):\r\n",
        "        print('{}x{}={}\\t'.format(j, i, i*j), end='') \r\n",
        "    print()"
      ],
      "execution_count": null,
      "outputs": []
    },
    {
      "cell_type": "markdown",
      "metadata": {
        "id": "zQR6oGOSHhi8"
      },
      "source": [
        "2. Arithmetics\r\n",
        "\r\n",
        "Python could serve as simple calculator and I am going to use it to show you the basic math in python.For Python, there are symbolic 6 operators: + , - , * , / , % , **"
      ]
    },
    {
      "cell_type": "code",
      "metadata": {
        "id": "uOlNpEDOINiy"
      },
      "source": [
        "# plus + \r\n",
        "1+1"
      ],
      "execution_count": null,
      "outputs": []
    },
    {
      "cell_type": "code",
      "metadata": {
        "id": "vSN-TsiDJrjc"
      },
      "source": [
        "# minus - \r\n",
        "3-2"
      ],
      "execution_count": null,
      "outputs": []
    },
    {
      "cell_type": "code",
      "metadata": {
        "id": "EQKw4TWCJx0m"
      },
      "source": [
        "# times *\r\n",
        "3*6"
      ],
      "execution_count": null,
      "outputs": []
    },
    {
      "cell_type": "code",
      "metadata": {
        "id": "MdRdis0OJx_s"
      },
      "source": [
        "# division /\r\n",
        "100/50"
      ],
      "execution_count": null,
      "outputs": []
    },
    {
      "cell_type": "code",
      "metadata": {
        "id": "ICeRYhO0la2A"
      },
      "source": [
        "# Modulo %;  7/2 = 3 .... 1\r\n",
        "\r\n",
        "7%2\r\n"
      ],
      "execution_count": null,
      "outputs": []
    },
    {
      "cell_type": "code",
      "metadata": {
        "colab": {
          "base_uri": "https://localhost:8080/"
        },
        "id": "Vx40WjX2ndAg",
        "outputId": "68b961cd-dfd6-4d5f-e7bf-bc91271c34a2"
      },
      "source": [
        "# Power **:\r\n",
        "\r\n",
        "2**3"
      ],
      "execution_count": null,
      "outputs": [
        {
          "output_type": "execute_result",
          "data": {
            "text/plain": [
              "8"
            ]
          },
          "metadata": {
            "tags": []
          },
          "execution_count": 4
        }
      ]
    },
    {
      "cell_type": "markdown",
      "metadata": {
        "id": "gfiWWdL1nzTz"
      },
      "source": [
        "**Code with me: express the math in comment with python codes and calculate it in mind and run it to see if you get the right answer"
      ]
    },
    {
      "cell_type": "code",
      "metadata": {
        "id": "eQbTJoeYnu8c"
      },
      "source": [
        "# What is the remainder of 11 divided by 3\r\n"
      ],
      "execution_count": null,
      "outputs": []
    },
    {
      "cell_type": "code",
      "metadata": {
        "id": "hNz15c1yortr"
      },
      "source": [
        "# How do you express : (2+3)^3 in python. Tips: use the braces to tell Python which math to do first\r\n"
      ],
      "execution_count": null,
      "outputs": []
    },
    {
      "cell_type": "markdown",
      "metadata": {
        "id": "vblQjzFOp_Go"
      },
      "source": [
        "3 Variables\r\n",
        "\r\n",
        "In python, information or data are stored in variables. Variables can be used next once you defined it."
      ]
    },
    {
      "cell_type": "code",
      "metadata": {
        "id": "y36ZB2vhrlfn"
      },
      "source": [
        "# We define a parameter:\r\n",
        "\r\n",
        "a1 = 2"
      ],
      "execution_count": null,
      "outputs": []
    },
    {
      "cell_type": "code",
      "metadata": {
        "id": "8RiTtt49r3z9"
      },
      "source": [
        "a1 + 9"
      ],
      "execution_count": null,
      "outputs": []
    },
    {
      "cell_type": "code",
      "metadata": {
        "id": "ehQvPEAsss3i"
      },
      "source": [
        "b1 = a1\r\n",
        "\r\n",
        "b1 = b1 + 9\r\n",
        "\r\n",
        "dinosaur = 100\r\n",
        "\r\n",
        "Trex = 500\r\n",
        "\r\n",
        "True = 1"
      ],
      "execution_count": null,
      "outputs": []
    },
    {
      "cell_type": "markdown",
      "metadata": {
        "id": "tscawARAu7SC"
      },
      "source": [
        "**Code with me: Anwsering to the following questions"
      ]
    },
    {
      "cell_type": "code",
      "metadata": {
        "colab": {
          "base_uri": "https://localhost:8080/"
        },
        "id": "_APvH2-mlbCP",
        "outputId": "06c757f7-9a8a-4f11-a656-38fff486528f"
      },
      "source": [
        "# A real world application in my experience:\r\n",
        "\r\n",
        "# Question1: store the value 91.2345 to variable num:\r\n",
        "\r\n",
        "# Question2: store the remainder of num divided by 10:\r\n",
        "\r\n",
        "# Question3: Suppose you are travelling with a time machine and your job is to read from an important meter and report to your captain. The captain says he \r\n",
        "#       doesn't need to know what after tens decimal places. Then how do you code to automatically transform the read from the meter to a result at accuracy\r\n",
        "#       to tens decimal places. For example, when your read is 92.5, the result should be 90.\r\n"
      ],
      "execution_count": null,
      "outputs": [
        {
          "output_type": "execute_result",
          "data": {
            "text/plain": [
              "90.0"
            ]
          },
          "metadata": {
            "tags": []
          },
          "execution_count": 20
        }
      ]
    },
    {
      "cell_type": "markdown",
      "metadata": {
        "id": "kueR3cW2yEpm"
      },
      "source": [
        "4 Concatension: \"+\" in strings. Sometimes, we will need to put strings together and with + operator, we can do it."
      ]
    },
    {
      "cell_type": "code",
      "metadata": {
        "id": "dFErNYkBy0Er"
      },
      "source": [
        "# String \r\n",
        "\r\n",
        "a = \"uiop890&*()\"\r\n",
        "a1 = 'uio890&*()'\r\n",
        "\r\n",
        "# Concatension\r\n",
        "\r\n",
        "first = \"D:/\"\r\n",
        "second = \"Springfestival/\"\r\n",
        "\r\n",
        "pathname = first + second + \"jiaozi.png\"\r\n"
      ],
      "execution_count": null,
      "outputs": []
    },
    {
      "cell_type": "markdown",
      "metadata": {
        "id": "dTgYmjULEP87"
      },
      "source": [
        "**Code with me: "
      ]
    },
    {
      "cell_type": "code",
      "metadata": {
        "id": "qdOd2m7TEUGd"
      },
      "source": [
        "# Combine the following strings with +, and print it. Check how many differents sentences can you make. You don't have to use all of them.\r\n",
        "# You may change it a bit. The point of this question to use + to glue together strings.\r\n",
        "\r\n",
        "a = \"Guido\"\r\n",
        "\r\n",
        "b = \"Python\"\r\n",
        "\r\n",
        "c = \"2021\"\r\n",
        "\r\n",
        "d = \"take\"\r\n",
        "\r\n",
        "e = \"in\"\r\n",
        "\r\n",
        "f = \"easy\"\r\n",
        "\r\n",
        "g = \"is\"\r\n"
      ],
      "execution_count": null,
      "outputs": []
    },
    {
      "cell_type": "markdown",
      "metadata": {
        "id": "ACK3ojriB1ZI"
      },
      "source": [
        "5 And, or, not and Control Flow. \r\n",
        "\r\n",
        "  And, or, no are three basic operations in program. And they are extremely useful in control flow. Control flow, to me, is used when you want to do A for conditon A and do B for condition B.Your work flow is not a simple one straight line but with many diverged paths."
      ]
    },
    {
      "cell_type": "code",
      "metadata": {
        "colab": {
          "base_uri": "https://localhost:8080/"
        },
        "id": "aBzL8hffFloI",
        "outputId": "391c1450-f4cf-438f-b153-485440678caa"
      },
      "source": [
        "# and, or, not\r\n",
        "\r\n",
        "\r\n",
        "# ==, !=, >,<,>=,<=\r\n",
        "\r\n",
        "print(1 == 2)\r\n",
        "\r\n",
        "print(1 != 2)\r\n",
        "\r\n",
        "print(1 == 2 or 1==1)\r\n",
        "\r\n",
        "print(1 >= 0 and 1 <= 0.5)\r\n",
        "\r\n",
        "# Control flow\r\n",
        "\r\n",
        "a = \r\n",
        "\r\n",
        "if a%2 == 0:\r\n",
        "  print(\"this is a even number\")\r\n",
        "\r\n",
        "elif a%2 == 1:\r\n",
        "  print(\"this is an odd number\")\r\n",
        "\r\n",
        "else:\r\n",
        "  print(\"This is not an integer, my friend\")"
      ],
      "execution_count": 12,
      "outputs": [
        {
          "output_type": "stream",
          "text": [
            "False\n",
            "True\n",
            "True\n",
            "False\n"
          ],
          "name": "stdout"
        }
      ]
    },
    {
      "cell_type": "markdown",
      "metadata": {
        "id": "orWyHeKtI5Sn"
      },
      "source": [
        "**Code with me: Suppose you are going to make some money by coding and you have successfully got an intern position at HUAWEI.You job is to design a work flow that rate employees by their sales.The rate standard is in this chart:\r\n",
        "\r\n",
        "![微信截图_20210209002156.png](data:image/png;base64,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)"
      ]
    },
    {
      "cell_type": "code",
      "metadata": {
        "id": "o8cPeiwTK3-c"
      },
      "source": [
        "## Final task,let's do it.\r\n",
        "\r\n",
        "volumne"
      ],
      "execution_count": null,
      "outputs": []
    }
  ]
}