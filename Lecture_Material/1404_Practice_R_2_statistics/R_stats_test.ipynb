{
  "nbformat": 4,
  "nbformat_minor": 0,
  "metadata": {
    "colab": {
      "name": "R_stats_test.ipynb",
      "provenance": []
    },
    "kernelspec": {
      "name": "python3",
      "display_name": "Python 3"
    },
    "language_info": {
      "name": "python"
    }
  },
  "cells": [
    {
      "cell_type": "code",
      "metadata": {
        "id": "5iyNPpMjrAUo"
      },
      "source": [
        "%load_ext rpy2.ipython"
      ],
      "execution_count": null,
      "outputs": []
    },
    {
      "cell_type": "markdown",
      "metadata": {
        "id": "MhdMAsynrHbc"
      },
      "source": [
        "\n",
        "# DS Helper lecture: Statistics in R    \n",
        "\n",
        "7th Apr 2021\n",
        "\n",
        "Lecturers: Alvaro, Jing\n",
        "---\n",
        "\n",
        "# Chapter I\n",
        "\n",
        "Ok,good afternoon, everyone. Welcome to the 7th DS session which,fortunately, is held on 7th April. No wonder 7 is a lucky number. \n",
        "\n",
        "Some of you may wonder, why this topic sounds so familiar or did I see it somewhere else? Yes, this is actually a derivative work from Valentina's previous lecture?2701_Intro_statistics _bioinformatics which gives us both a well-rounded reference and various inspirations during the session preparation process. I would like to firstly say \"thank you\" to our diligent and great organizor: Valentina.\n",
        "\n",
        "Also, thank you for your precious and valuable feedbacks on the survey that greatly contribute to our growth. According to your feedbacks, we realized improvements we can make and we couldn't thank you more for your precious suggestions.\n",
        "\n",
        "Alright, let's back on our main track.\n",
        "Firstly, I want to make sure that everyone's computer is ready for our lecture. Run this check to see if you can see the feedback like this:"
      ]
    },
    {
      "cell_type": "code",
      "metadata": {
        "id": "_w6J9fo-rTg3"
      },
      "source": [
        "%%R\n",
        "library('tidyverse')\n",
        "sessionInfo()"
      ],
      "execution_count": null,
      "outputs": []
    },
    {
      "cell_type": "markdown",
      "metadata": {
        "id": "UKI9ngZorgQb"
      },
      "source": [
        "R, by comparison to other programming languages, is well-known for its powerful statistical functions. So today we are gonna check this claim out with one our of friends: movie data set\n"
      ]
    },
    {
      "cell_type": "code",
      "metadata": {
        "id": "h-3fgMrHrfbS"
      },
      "source": [
        "#%%R\n",
        "path_to_file = \"https://raw.githubusercontent.com/almenal/imdb_data/main/movies.csv\"\n",
        "movies = readr::read_csv(path_to_file)\n",
        "movies"
      ],
      "execution_count": null,
      "outputs": []
    },
    {
      "cell_type": "markdown",
      "metadata": {
        "id": "6jEtRjdIrmBY"
      },
      "source": [
        "##Mean value\n",
        "Mean value is a central value of a finite set of numbers: specifically, the sum of the values divided by the number of values. In R, we use `mean()` function.\n"
      ]
    },
    {
      "cell_type": "code",
      "metadata": {
        "id": "m-elihpsrntJ"
      },
      "source": [
        "#%%R\n",
        "a = mean(movies$budget)\n",
        "print(a)"
      ],
      "execution_count": null,
      "outputs": []
    },
    {
      "cell_type": "markdown",
      "metadata": {
        "id": "IhhhgINtrqwZ"
      },
      "source": [
        "##Code with me: This time we are trying to use some of codes that we learned before"
      ]
    },
    {
      "cell_type": "code",
      "metadata": {
        "id": "O4ZWQetorr_F"
      },
      "source": [
        "%%R\n",
        "#Have a look at the mean value for USA movies"
      ],
      "execution_count": null,
      "outputs": []
    },
    {
      "cell_type": "markdown",
      "metadata": {
        "id": "D766bYvarvVy"
      },
      "source": [
        "##Standard deviation\n",
        "Standard deviation measures the differences within a dataset. In R, we use `sd()` function.\n"
      ]
    },
    {
      "cell_type": "code",
      "metadata": {
        "id": "4pa8kEISrtzX"
      },
      "source": [
        "#%%R\n",
        "a1 = sd(movies$budget)\n",
        "print(a1)\n",
        "?sd"
      ],
      "execution_count": null,
      "outputs": []
    },
    {
      "cell_type": "markdown",
      "metadata": {
        "id": "7dorK2MLr0Np"
      },
      "source": [
        "##Other functions that occassionaly used. `var()`,`min()`,`max()`,`median()`"
      ]
    },
    {
      "cell_type": "code",
      "metadata": {
        "id": "KxUMwjGPr18v"
      },
      "source": [
        "%%R\n",
        "\n",
        "a2 = var(movies$budget)\n",
        "print(a2)\n",
        "\n",
        "a3 = min(movies$budget)\n",
        "print(a3)\n",
        "\n",
        "a4 = max(movies$budget)\n",
        "print(a4)\n",
        "\n",
        "a5 = median(movies$budget)\n",
        "print(a5)\n",
        "\n",
        "a6 = range(movies$budget)\n",
        "print(a6)\n",
        "?range\n",
        "\n",
        "a7 = quantile(movies$budget, probs = seq(0,1,0.25))\n",
        "print(a7)\n",
        "?quantile\n"
      ],
      "execution_count": null,
      "outputs": []
    },
    {
      "cell_type": "markdown",
      "metadata": {
        "id": "cdlibhEXr6Zh"
      },
      "source": [
        "# Chapter II\n",
        "\n",
        "Now that we have covered descriptive statistics, which help you understand how your data looks like, it is time to apply that knowledge for hypothesis testing.\n",
        "\n",
        "## t-test and its variants\n",
        "\n",
        "Let's start our demonstration of statistical tools with an old friend, the Student's t test.\n",
        "The idea behind is to compare the mean of two groups and assess if they are significantly different with some measure of certainty.\n",
        "As you may know, the way that statistics deals with the concept of \"significance\" is by measuring the \"rareness\" of the event.\n",
        "An event will be unique if it happens only **rarely** compared to the control. So in order to assess how rare an event is, we need to know what the baseline (the control) looks like, in order to know where our case falls within that baseline. As an example, if we are measuring the blood pressure of patients before and after taking a drug that reduces it.\n",
        "\n",
        "In order words, we need to know the distribution of our variable __under the null hypothesis__.\n"
      ]
    },
    {
      "cell_type": "code",
      "metadata": {
        "id": "59vZhbCRr5Bb"
      },
      "source": [
        "%%R\n",
        "## Don't worry too much about this part of code, it's not the focus of the lecture :)\n",
        "uk_scores = movies$score[movies$country==\"UK\"]\n",
        "us_scores = movies$score[movies$country==\"USA\"]\n",
        "group_means = tibble(country=c(\"UK\",\"USA\"), grpmean=c(mean(uk_scores), mean(us_scores)))\n",
        "\n",
        "ggplot(movies, aes(x=score, color=country, fill = country)) +\n",
        "  geom_density(data=movies %>% filter(country == \"USA\"),alpha=0.4) +\n",
        "  geom_density(data=movies %>% filter(country == \"UK\"),alpha=0.4) +\n",
        "  geom_vline(data = group_means, aes(xintercept = grpmean, color=country), size=1, linetype=2) + \n",
        "  annotate(\"segment\", x=min(group_means$grpmean), xend=max(group_means$grpmean), y=0.55, yend = 0.55, color=\"black\") + \n",
        "  labs(title = \"Visual representation of the t-test procedure\",\n",
        "       subtitle = \"The t-test gives evaluates whether the difference in the means (-- lines) is significantly different from zero.\\nFor that, it computes the probability of observing a difference like this one under the assumption\\nthat there is no difference (i.e. observing this difference by chance)\")\n"
      ],
      "execution_count": null,
      "outputs": []
    },
    {
      "cell_type": "markdown",
      "metadata": {
        "id": "DK-sKIuAsLpt"
      },
      "source": [
        "In order to run a t-test, we use the function `t.test()`, which takes as input two vectors (the vector for scores of UK movies, and the one for USA movies).\n"
      ]
    },
    {
      "cell_type": "code",
      "metadata": {
        "id": "mZXoh8y4sNje"
      },
      "source": [
        "%%R\n",
        "t_test_results = t.test(uk_scores, us_scores)\n",
        "print(t_test_results)\n"
      ],
      "execution_count": null,
      "outputs": []
    },
    {
      "cell_type": "markdown",
      "metadata": {
        "id": "clqrc53bsPqL"
      },
      "source": [
        "`t_test_results` is a list with different elements which provide information on the t-test we have carried out. The `print()` function gives us a summary of the test with the following information:\n",
        "\n",
        "- t-statisic\n",
        "- degrees of freedom\n",
        "- p-value (although in this case it just indicates it's below $2.2\\times 10^{-16}$)\n",
        "- 95% CI on the \"true\" group difference\n",
        "\n",
        "If we want to save the p-value in a variable, we have to retrieve it from the list.\n"
      ]
    },
    {
      "cell_type": "code",
      "metadata": {
        "id": "ZIXoedUdsRjU"
      },
      "source": [
        "%%R\n",
        "pval_uk_us = t_test_results$p.value # or t_test_results[[\"p.value\"]]\n",
        "print(paste(\"The p-value is:\", pval_uk_us))\n"
      ],
      "execution_count": null,
      "outputs": []
    },
    {
      "cell_type": "markdown",
      "metadata": {
        "id": "ruKG6JG3sTip"
      },
      "source": [
        "### Paired observations?\n",
        "\n",
        "In our case, each observation in the data frame is independent from each other, but it is common in biomedical contexts to find measurements that come from the same sample (the same patient before and after administrating a drug).\n",
        "In such cases, we say that the data is **paired**, and it means that the observations are likely correlated because they come from the same sample.\n",
        "A special test exists to account for that, and it can be performed with the same `t.test` function.\n",
        "\n",
        "Run `help(t.test)` to find out which parameter you'd have to change if you had paired samples."
      ]
    },
    {
      "cell_type": "code",
      "metadata": {
        "id": "-5apWV9gsW16"
      },
      "source": [
        "%%R\n",
        "\n",
        "# Your code here"
      ],
      "execution_count": null,
      "outputs": []
    },
    {
      "cell_type": "markdown",
      "metadata": {
        "id": "0Oynq7hWsZjM"
      },
      "source": [
        "## Anova - extending t-tests"
      ]
    },
    {
      "cell_type": "code",
      "metadata": {
        "id": "toSLEcpesbOj"
      },
      "source": [
        "%%R\n",
        "uk_scores = movies$score[movies$country==\"UK\"]\n",
        "us_scores = movies$score[movies$country==\"USA\"]\n",
        "france_scores = movies$score[movies$country==\"France\"]\n",
        "group_means = tibble(country=c(\"UK\",\"USA\", \"France\"), grpmean=c(mean(uk_scores), mean(us_scores), mean(france_scores)))\n",
        "\n",
        "ggplot(movies, aes(x=score, color=country, fill = country)) +\n",
        "  geom_density(data=movies %>% filter(country == \"USA\"),alpha=0.4) +\n",
        "  geom_density(data=movies %>% filter(country == \"UK\"),alpha=0.4) +\n",
        "  geom_density(data=movies %>% filter(country == \"France\"),alpha=0.4) +\n",
        "  geom_vline(data = group_means, aes(xintercept = grpmean, color=country), size=1, linetype=2) + \n",
        "  #annotate(\"segment\", x=min(group_means$grpmean), xend=max(group_means$grpmean), y=0.55, yend = 0.55, color=\"black\") + \n",
        "  labs(title = \"ANOVA: extending t-tests\",\n",
        "       subtitle = \"Here we test whether the variance between groups is larger than the variance within groups\")"
      ],
      "execution_count": null,
      "outputs": []
    },
    {
      "cell_type": "markdown",
      "metadata": {
        "id": "1uKNWhjQsfMD"
      },
      "source": [
        "Another, more proper way of seeing it is:"
      ]
    },
    {
      "cell_type": "code",
      "metadata": {
        "id": "k3amtXBksgaL"
      },
      "source": [
        "%%R\n",
        "\n",
        "uk_scores = movies$score[movies$country==\"UK\"]\n",
        "us_scores = movies$score[movies$country==\"USA\"]\n",
        "france_scores = movies$score[movies$country==\"France\"]\n",
        "group_means = tibble(country=c(\"UK\",\"USA\", \"France\"), grpmean=c(mean(uk_scores), mean(us_scores), mean(france_scores))) %>% mutate(country = factor(country, levels = c(\"UK\", \"USA\", \"France\")))\n",
        "\n",
        "movies %>% \n",
        "  filter(country %in% c(\"UK\", \"USA\", \"France\")) %>% \n",
        "  mutate(country = factor(country, levels = c(\"UK\", \"USA\", \"France\"))) %>% \n",
        "  ggplot(aes(x=country, y=score, color=country)) +\n",
        "  geom_jitter(alpha=0.3) + \n",
        "  geom_segment(data=group_means, aes(x=as.numeric(country)-0.5, xend=as.numeric(country)+0.5, y=grpmean, yend = grpmean), color=\"black\") +\n",
        "  annotate(\"segment\", x=0, xend=4, y=mean(group_means$grpmean), yend=mean(group_means$grpmean), linetype=2) + \n",
        "  labs(title = \"ANOVA from another perspective\",\n",
        "       subtitle = \"The goal here is to determine whether the variance between the groups\\nislarger than the variance within them.\")\n",
        "\n"
      ],
      "execution_count": null,
      "outputs": []
    },
    {
      "cell_type": "markdown",
      "metadata": {
        "id": "cRYcISDsskEx"
      },
      "source": [
        "If the variance within each group is small and the variance between them is large, then we could say that there is a difference in the means of the groups, because each distribution is separated from the others.\n",
        "\n",
        "### One way\n",
        "\n",
        "The syntax to make an ANOVA test is slightly more complicated, but not too much. Instead of just providing two vectors, the input will be the entire data frame (the `data` argument).\n",
        "Once we have that, we are going to tell R that we want to model our outcome variable (scores, `y`) as a function of a predictive variable (country, `x`). For that, we use the formula notation:\n",
        "\n",
        "`y ~ x`\n",
        "\n",
        "and we give it as first argument to the `aov()` function (**a**nalysis **o**f **v**ariance)\n"
      ]
    },
    {
      "cell_type": "code",
      "metadata": {
        "id": "8038EdJisksz"
      },
      "source": [
        "%%R\n",
        "\n",
        "minidf = filter(movies, country %in% c(\"UK\", \"USA\", \"France\"))\n",
        "anova_test = aov(score ~ country, data=minidf)\n",
        "print(summary(anova_test))\n"
      ],
      "execution_count": null,
      "outputs": []
    },
    {
      "cell_type": "markdown",
      "metadata": {
        "id": "4K8wCQKUsoy4"
      },
      "source": [
        "\n",
        "It seems like there is a significant difference between the groups!. As opposed to the t.test, where we had an estimate for the difference in means (the effect size), here we do not obtain anything of the sort, since the question we are asking is \"Is there a difference at all between the groups?\" and not \"Which groups are different to which?\".\n",
        "\n",
        "To answer the latter question, we would have to do pairwise comparison between all the categories tested, which would imply a need to do multiple comparisons correction.\n",
        "\n",
        "### Two-way\n",
        "\n",
        "ANOVA can be extended to measure the effects of several categorical variables together. In our case, we could be looking at the differences between both countries and genres at the same time. Such a test is called two-way ANOVA and is run with the same `aov()` function.\n",
        "\n",
        "The thing that changes is that now we add another term to the formula:\n",
        "\n",
        "`y ~ x1*x2`\n",
        "\n",
        "The \"*\" indicates that we also want to see if there is an interaction between both grouping variables.\n"
      ]
    },
    {
      "cell_type": "code",
      "metadata": {
        "id": "8TCn5BcUsqSY"
      },
      "source": [
        "%%R\n",
        "minidf = filter(movies, country %in% c(\"UK\", \"USA\", \"France\"), genre %in% c(\"Action\", \"Horror\", \"Drama\"))\n",
        "two_way_anova_test = aov(score ~ country*genre, data=minidf)\n",
        "print(summary(two_way_anova_test))"
      ],
      "execution_count": null,
      "outputs": []
    },
    {
      "cell_type": "markdown",
      "metadata": {
        "id": "3h6cMpfassbC"
      },
      "source": [
        "\n",
        "## Non-parametric equivalents\n",
        "\n",
        "### Wilcoxon rank-sum (Mann-Whitney U)\n",
        "\n",
        "- t-test assumes normality for each group\n",
        "  - Only if each group is normal the mean and stdev are proper representations of the true expectation and variance of the population\n",
        "- Data might not be normally distributed!\n",
        "  - Non-parametric tests to the rescue\n",
        "  - Less powerful when data **is** normally distrib."
      ]
    },
    {
      "cell_type": "code",
      "metadata": {
        "id": "gGr3pMBVsuOb"
      },
      "source": [
        "%%R\n",
        "uk_scores = movies$score[movies$country==\"UK\"]\n",
        "us_scores = movies$score[movies$country==\"USA\"]\n",
        "\n",
        "wilcx_test = wilcox.test(uk_scores, us_scores)\n",
        "print(wilcx_test)\n"
      ],
      "execution_count": null,
      "outputs": []
    },
    {
      "cell_type": "markdown",
      "metadata": {
        "id": "Opx3jVBUszIr"
      },
      "source": [
        "### Wilcoxon signed rank\n",
        "\n",
        "Guess what this is equivalent to :D\n",
        "\n",
        "### Kruskal-Wallis test\n",
        "\n",
        "If we want to extend the Wilcoxon test to accept more than 2 groups (just like ANOVA), we can use the Kruskal-Wallis test:"
      ]
    },
    {
      "cell_type": "code",
      "metadata": {
        "id": "Bqwb14vzs1T1"
      },
      "source": [
        "%%R\n",
        "\n",
        "minidf = filter(movies, country %in% c(\"UK\", \"USA\", \"France\"))\n",
        "krskl_test = kruskal.test(score ~ country, data=minidf)\n",
        "print((krskl_test))"
      ],
      "execution_count": null,
      "outputs": []
    },
    {
      "cell_type": "markdown",
      "metadata": {
        "id": "CblVSIMxs3ng"
      },
      "source": [
        "\n",
        "## Further reading\n",
        "\n",
        "[This blog post](http://www.rebeccabarter.com/blog/2017-02-17-anova/) has helped me a lot in understanding ANOVA better."
      ]
    },
    {
      "cell_type": "code",
      "metadata": {
        "id": "KeSTMUXGs5A_"
      },
      "source": [
        ""
      ],
      "execution_count": null,
      "outputs": []
    }
  ]
}