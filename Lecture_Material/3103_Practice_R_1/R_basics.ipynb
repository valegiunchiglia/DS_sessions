{
  "nbformat": 4,
  "nbformat_minor": 0,
  "metadata": {
    "colab": {
      "name": "R basics.ipynb",
      "provenance": [],
      "collapsed_sections": []
    },
    "kernelspec": {
      "name": "python3",
      "display_name": "Python 3"
    },
    "language_info": {
      "name": "python"
    }
  },
  "cells": [
    {
      "cell_type": "markdown",
      "metadata": {
        "id": "chKV7oABAnvU"
      },
      "source": [
        "# DS HELPER TEAM - R basics"
      ]
    },
    {
      "cell_type": "code",
      "metadata": {
        "id": "tUaA-wcsoCAt"
      },
      "source": [
        "%load_ext rpy2.ipython"
      ],
      "execution_count": null,
      "outputs": []
    },
    {
      "cell_type": "code",
      "metadata": {
        "id": "EKhwZTrcneTc"
      },
      "source": [
        "%%R\n",
        "library(dplyr)"
      ],
      "execution_count": null,
      "outputs": []
    },
    {
      "cell_type": "code",
      "metadata": {
        "id": "gABvGPXnn8K6"
      },
      "source": [
        "%%R\n",
        "\n",
        "movies = readr::read_csv(\"https://raw.githubusercontent.com/almenal/imdb_data/main/movies.csv\")\n",
        "movies"
      ],
      "execution_count": null,
      "outputs": []
    },
    {
      "cell_type": "code",
      "metadata": {
        "id": "5hkaRV9p_HkV"
      },
      "source": [
        "%%R \n",
        "head(movies$votes)"
      ],
      "execution_count": null,
      "outputs": []
    },
    {
      "cell_type": "code",
      "metadata": {
        "id": "dQIUdG8WH8gm"
      },
      "source": [
        "%%R\n",
        "head(movies$name)"
      ],
      "execution_count": null,
      "outputs": []
    },
    {
      "cell_type": "markdown",
      "metadata": {
        "id": "LJ4YYataEC1H"
      },
      "source": [
        "There's the data! Feel free to explore it.\n",
        "\n",
        "As a starting tip, what you have above you is a \"data frame\" (or tibble), which is a fancier term for \"Excel table\". It has 6,820 rows and 15 columns, each of a specific data type: numeric (or `dbl`), characters (or `chr`), etc\n",
        "\n",
        "Each row of the dataframe is an observation, or data point. Each observation has values from different variables, which correspond to the columns. For example, the first row shows information on the movie \"Stand by Me\", like its budget, its director, the year it was produced, etc."
      ]
    },
    {
      "cell_type": "code",
      "metadata": {
        "id": "hhu-FI_K9YcM"
      },
      "source": [
        "# colnames() returns the names of tehe columns of the dataframe. \n",
        "# You can use it to have a better ovweview of what kind of data is shown in the dataframe\n",
        "\n",
        "%%R\n",
        "colnames(movies)"
      ],
      "execution_count": null,
      "outputs": []
    },
    {
      "cell_type": "code",
      "metadata": {
        "id": "k3WsufRgF50t"
      },
      "source": [
        "%%R\n",
        "# Manipulating data:\n",
        "# If you want to extract an entire column from a dataframe, you can do so by \n",
        "# using the $ notation: specify the column name after the name of the dataframe and a $ symbol\n",
        "\n",
        "countries = movies$country\n",
        "\n",
        "# head() function is usually how we have a brief look at the data. Often the case that we don't actually want to know all the detail, but a general idea or a few examples \n",
        "# about the data we have\n",
        "head(countries)\n"
      ],
      "execution_count": null,
      "outputs": []
    },
    {
      "cell_type": "code",
      "metadata": {
        "id": "BnE0Du4R-aib"
      },
      "source": [
        "%%R\n",
        "# How would you extract the information on what year the movies were released?\n",
        "\n",
        "#### Your code here ####"
      ],
      "execution_count": null,
      "outputs": []
    },
    {
      "cell_type": "markdown",
      "metadata": {
        "id": "RDYAD2ZWI_qw"
      },
      "source": [
        "\n",
        "## Situation\n",
        "You have been working tirelessly for the poster presentation and are finally done. You did so well that you want to reward yourself with a nive movie night. **BUT**, you have been working sooo hard, that you want to choose the **best** movie possible.\n",
        "\n",
        "And for that, you will use the power of Data Science!\n",
        "\n",
        "We have given you a dataset with more than 60K movies to choose from. For sure, the ideal movie will be there.\n",
        "\n",
        "\n",
        "## Step 0: Too many variables!\n",
        "\n",
        "As you have seen before when we used `colnames()`, the dataset has a lot of information on each movie, perhaps even too much. We can start our journey by focusing on variables that we really care about. For example, the `revenue` of the movie, or its `budget` might not help a lot in choosing the movie, so we can leave them out of the datset for now.\n",
        "\n",
        "Use the function `select()` to tell R to keep only certain columns from a data frame. The way you use the function (the syntax) is to first provide a data frame, and then a vector with the variable names to keep:\n",
        "\n",
        "`reduced_dataframe = select(dataframe, c(var1, var2, var3))`"
      ]
    },
    {
      "cell_type": "code",
      "metadata": {
        "id": "b8d4NtvqE--y"
      },
      "source": [
        "%%R\n",
        "\n",
        "narrower_df  = select(movies, c(country, director,\n",
        "                                # ... other variables here\n",
        "                                ))\n"
      ],
      "execution_count": null,
      "outputs": []
    },
    {
      "cell_type": "markdown",
      "metadata": {
        "id": "qz9zsnpnEFG1"
      },
      "source": [
        "## Step 1: Who are the only ones?\n",
        "The first thing that you might want to is to see what type of movie genres there are. That information is located in the `genre` column of the dataframe, but you might want to summarise it to make your life easier. For instance, you don't need to look at the 60K rows to see all the possibilities, you only need to see what possibilities there are.\n"
      ]
    },
    {
      "cell_type": "code",
      "metadata": {
        "id": "QDTx-zQtG94_"
      },
      "source": [
        "# By using the unique() function, we can see what the unique values of a character vector are, without repetitions\n",
        "\n",
        "\n",
        "my_genre = "
      ],
      "execution_count": null,
      "outputs": []
    },
    {
      "cell_type": "markdown",
      "metadata": {
        "id": "fwlT7eF-LQnv"
      },
      "source": [
        "You can use the same function again to see the countries where the movies were produced in. Do you want to go for a Hollywood movie? Or keep it british? Or perhaps going somehwere completely different? You decide! "
      ]
    },
    {
      "cell_type": "code",
      "metadata": {
        "id": "6KfJ-j2YL1eC"
      },
      "source": [
        "# Your code here\n",
        "\n",
        "\n",
        "my_country = "
      ],
      "execution_count": null,
      "outputs": []
    },
    {
      "cell_type": "markdown",
      "metadata": {
        "id": "_2pjgT0uOt1C"
      },
      "source": [
        "## Step 2: Hide and SEEK!\n",
        "\n",
        "Now that you have narrowed down the movies to a specific genre and country, you can `filter` the dataframe to contain only the movies from the country and of the genre you have selected.\n"
      ]
    },
    {
      "cell_type": "code",
      "metadata": {
        "id": "NLqDbbuBPxbP"
      },
      "source": [
        "# The filter function needs two inputs: the dataframe to filter and the condition used to filter\n",
        "\n",
        "my_genre_movies = filter(movies, genre == my_genre) \n",
        "# Note that to check for equality we need to use two \"=\"  "
      ],
      "execution_count": null,
      "outputs": []
    },
    {
      "cell_type": "code",
      "metadata": {
        "id": "gK4tfUuNA2JD"
      },
      "source": [
        "# Your coding time.\n",
        "# Let's keep filtering the country condition(Well, if you don't care where the movie is produced, just pretend you care for this time. Afterall, it is a learning course)\n",
        "\n",
        "## tips: Genre has been previously filtered out. We could make use of that\n",
        "\n",
        "\n",
        "\n"
      ],
      "execution_count": null,
      "outputs": []
    },
    {
      "cell_type": "markdown",
      "metadata": {
        "id": "f_DQy0tcDVvh"
      },
      "source": [
        "## Step 3 Still too many?\n",
        "\n",
        "Apart from categorical variables (like `country` and `genre`), we can apply other filtering criteria to numerical variables. For example, I get sleepy during movie night, so I cannot watch anything for more than 2h and a half. If that's your case as well, you can `filter()` out the long movies by using the `<`, `<=` `>` and `>=` operators. The syntax is the same as above!"
      ]
    },
    {
      "cell_type": "code",
      "metadata": {
        "id": "BalaUsWu_cIS"
      },
      "source": [
        "%%R\n",
        "\n",
        "my_runtime = # NOTE: The runtime variable gives the duration of the films in MINUTES!\n",
        "\n",
        "## Your code here ##"
      ],
      "execution_count": null,
      "outputs": []
    },
    {
      "cell_type": "markdown",
      "metadata": {
        "id": "IARuTKml_qMa"
      },
      "source": [
        "## Step 4 Who's the best?\n",
        "\n",
        "Alright! So far we hav narrowed down our search to only a few movies, but somehow they're still too many to look up manually! You have a refined taste in movies, so in order to make your life easier, you can start by looking at the movies with the highest score.\n",
        "\n",
        "Luckily, `R` has your back. Use the `arrange()` function to sort a dataframe according to the values in a column. \n",
        "\n",
        "`sorted_df = arrange(df, variable)`\n",
        "\n",
        "The default behaviour is to sort them in ascending order, which is the opposite of what we want. To fix that, we have to add `desc()` around the variable that we specify:\n",
        "\n",
        "`sorted_df = arrange(df, desc(variable))`\n",
        "\n",
        "Now it's your turn to sort the dataframe according to score!"
      ]
    },
    {
      "cell_type": "code",
      "metadata": {
        "id": "EP-dFtPc_oom"
      },
      "source": [
        "%%R\n",
        "\n",
        "## Your code here ##"
      ],
      "execution_count": null,
      "outputs": []
    },
    {
      "cell_type": "code",
      "metadata": {
        "id": "oU0m7JCjAY1N"
      },
      "source": [
        "## BONUS --- \n",
        "# The function slice() selects rows in a dataframe. \n",
        "# In this case you could just use head(df, n) to see the first n rows of the dataframe\n",
        "# but if you wanted to save them into an object to us it later, you should\n",
        "# use slice()\n",
        "\n",
        "%%R\n",
        "\n",
        "slice(movies, 1:4)"
      ],
      "execution_count": null,
      "outputs": []
    },
    {
      "cell_type": "markdown",
      "metadata": {
        "id": "ZKRywyJICCoN"
      },
      "source": [
        "## Congratulations!\n",
        "\n",
        "You have succesfully used R's data wrangling package `dplyr` to navigate a big dataset and arrange a perfect movie night. Sadly, there's no R implementation that would help you make popcorn... yet! But still R helped.\n",
        "\n",
        "Let's go over what we have learned so far:\n",
        "\n",
        "- Data frames are the most popular way of representing tabular data in R\n",
        "- The `dlpyr` package is a useful tool to handle data frames\n",
        "- With `select()` you can tell R which variables you want to keep\n",
        "- `unique()` gives you the unique values of a character vector (useful to know the different labels of a categorical variable)\n",
        "- `filter()` helps you keep only rows that meet a condition\n",
        "- `arrange()` sorts a dataframe according to a variable\n",
        "\n",
        "## Final exercise: putting it all together... with for loops!\n",
        "\n",
        "It is common in any programming language to do the same task many times changing a parameter. For example, in the case of a wet-lab scientist, you might be performing a t-test to see if the growth of cancer cells under different treatment differs from the control. You could write the code for the t-test many times (one for each treatment), or you can write the code once, and tell R to change the treatment group each time.\n",
        "\n",
        "The idea of a for loop is to avoid writing the same code multiple times and instead just state what you want to do, and what parts you want to change in each round. This is helpful in two ways: first, it makes your code more concise and easier to read; and second, there is a high chance that by copy-pasting the same code and changing one or two variables you will make some mistake along the way.\n",
        "\n",
        "### Syntax\n",
        "\n",
        "To use a for loop in R we need 3 ingredients:\n",
        "\n",
        "1. The parameter that we will change every time\n",
        "2. The code we want to repeat\n",
        "3. Some place to store the results\n",
        "\n",
        "And the syntax is:\n",
        "\n",
        "```r\n",
        "parameters_vector = c(5,10,15,20)\n",
        "results_vector = c()\n",
        "for (i in 1:length(parameters_vector)){\n",
        "  variable = parameters_vector[i]\n",
        "  step1 = do_stuff(variable)\n",
        "  # ...\n",
        "  stepN = do_more_stuff(step1)\n",
        "  results_vector[variable] = stepN\n",
        "}\n",
        "```\n",
        "\n",
        "1. The vector `parameters_vector` specifies the different paramters we want to apply to our code.\n",
        "1. The next line of code creates an empty vector (`results_vector`) that we will use to store the results generated in the for loop. \n",
        "1. In the first \"round\" of the for loop (a.k.a the first **iteration**), the variable `i` will take the value 1. We use this as an index, to access the first element in `parameters_vector` (in this case, the number 5), which will be stored as `variable` and given as a parameter to the function `do_stuff()`. \n",
        "1. The result of this is stored in `step1`, which can be used in other functions to produce more results, etc. \n",
        "1. After a series of steps, we want to store the last result produced (`stepN`) somewhere, and for that we use the empty vector. Recall that the square brackets is used for indexing a vector, so we are telling R that the $i^{th}$ element of `results_vector` is the result produced in the $i^{th}$ iteration of the for loop.\n",
        "\n",
        "Now that you know this, let's put it to practice.\n",
        "\n",
        "### Exercise\n",
        "You already have your movie night set-up, but there's still some time left, so you **obviously** decide to spend your free time exploring the data with R :D\n",
        "\n",
        "Specifically, you're curious about knowing the amount of films of each category of age rating. You can put into practice the functions we have learned so far!"
      ]
    },
    {
      "cell_type": "code",
      "metadata": {
        "id": "wMZkC1uhCBcm"
      },
      "source": [
        "%%R\n",
        "movies = readr::read_csv(\"https://raw.githubusercontent.com/almenal/imdb_data/main/movies.csv\")\n",
        "\n",
        "# 0. select() to select only age rating column\n",
        "reduced_df = # ...\n",
        "\n",
        "# 1. use unique() to get unique values of age rating\n",
        "unique_age_ratings = # ...\n",
        "\n",
        "# 2. You will need to store the results of your analysis somewhere, \n",
        "# and for that we first need to create an empty vector\n",
        "movies_per_age = c()\n",
        "\n",
        "# for loop:\n",
        "for (j in 1:length(unique_age_ratings)){\n",
        "    # Use j to index the j_th_ value of unique_age_ratings\n",
        "\n",
        "    # Filter the reduced dataframe to include only\n",
        "    # movies that match the age rating of this iteration\n",
        "\n",
        "    # Get the number of rows of the dataframe with nrow()\n",
        "\n",
        "    # Store the number of rows into the j_th_ element of the results vector\n",
        "}"
      ],
      "execution_count": null,
      "outputs": []
    },
    {
      "cell_type": "markdown",
      "metadata": {
        "id": "vcqTg_edDN_z"
      },
      "source": [
        "Now you can either \"print\" the information that you have gathered, or represent it graphically as a barplot!"
      ]
    },
    {
      "cell_type": "code",
      "metadata": {
        "id": "bsP_RdRRBV65"
      },
      "source": [
        "# Give the vector names to put labels in the barplot \n",
        "names(movies_per_age) = unique_age_ratings\n",
        "barplot(movies_per_age)"
      ],
      "execution_count": null,
      "outputs": []
    },
    {
      "cell_type": "markdown",
      "metadata": {
        "id": "tvJ30O03J7QC"
      },
      "source": [
        "### Further reading\n",
        "\n",
        "There are still a lot of useful functions that the `dplyr` package can offer. [You can check out its webpage](https://dplyr.tidyverse.org/) for futher info, it's pretty beginner-friendly.\n",
        "\n",
        "Also, for general reference there's the fantastic book [R 4 Data Science](https://r4ds.had.co.nz)\n",
        "\n",
        "# Next session... Statistical tests, fake or fact!"
      ]
    }
  ]
}